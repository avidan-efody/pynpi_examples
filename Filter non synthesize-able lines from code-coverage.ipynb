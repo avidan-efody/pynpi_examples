{
 "cells": [
  {
   "cell_type": "markdown",
   "metadata": {},
   "source": [
    "# Run the example"
   ]
  },
  {
   "cell_type": "code",
   "execution_count": null,
   "metadata": {
    "scrolled": true
   },
   "outputs": [],
   "source": [
    "\n",
    "# compile and run the design, nothing very interesting here\n",
    "import os\n",
    "from subprocess import Popen, PIPE, CalledProcessError\n",
    "\n",
    "os.environ['VCS_HOME'] = 'path-to-vcs'\n",
    "os.environ['VERDI_HOME'] = 'path-to-verdi'\n",
    "\n",
    "with Popen('simple_example/run', stdout=PIPE, bufsize=1, universal_newlines=True) as p:\n",
    "    if p.returncode != 0:\n",
    "        raise CalledProcessError(p.returncode, p.args)"
   ]
  },
  {
   "cell_type": "markdown",
   "metadata": {},
   "source": [
    "#  Get NPI license"
   ]
  },
  {
   "cell_type": "code",
   "execution_count": 3,
   "metadata": {},
   "outputs": [
    {
     "data": {
      "text/plain": [
       "1"
      ]
     },
     "execution_count": 3,
     "metadata": {},
     "output_type": "execute_result"
    }
   ],
   "source": [
    "# imports and initialization (i.e. license check)\n",
    "from pynpi import npisys\n",
    "\n",
    "npisys.init([\"anything\"])"
   ]
  },
  {
   "cell_type": "markdown",
   "metadata": {},
   "source": [
    "# Load design database\n",
    "\n",
    "We use this to extract a list of file/line locations containing non-synthesizable initial blocks"
   ]
  },
  {
   "cell_type": "code",
   "execution_count": 4,
   "metadata": {},
   "outputs": [],
   "source": [
    "if not npisys.load_design(['-dbdir', 'simv.daidir']):\n",
    "    print(\"couldn't open design\")"
   ]
  },
  {
   "cell_type": "markdown",
   "metadata": {},
   "source": [
    "# Find lines in \"initial\" blocks\n",
    "\n",
    "We recursively go through the hierarchy looking for initial blocks, then we recursively go through initial blocks to find statements. Yes, because of the way NPI is built we recurse a lot..."
   ]
  },
  {
   "cell_type": "code",
   "execution_count": 5,
   "metadata": {},
   "outputs": [
    {
     "name": "stdout",
     "output_type": "stream",
     "text": [
      "[('simple_example/top.v', 9), ('simple_example/top.v', 11), ('simple_example/top.v', 12), ('simple_example/top.v', 13), ('simple_example/top.v', 15), ('simple_example/top.v', 16), ('simple_example/top.v', 18), ('simple_example/top.v', 19), ('simple_example/top.v', 21), ('simple_example/top.v', 22), ('simple_example/top.v', 24), ('simple_example/top.v', 25), ('simple_example/top.v', 27), ('simple_example/top.v', 28), ('simple_example/top.v', 29)]\n"
     ]
    }
   ],
   "source": [
    "from pynpi import lang\n",
    "\n",
    "# find all statements in a given process (i.e. initial/always)\n",
    "def find_all_statements(process, locations=[]):     \n",
    "    block = process.stmt_handle()\n",
    "    if (block != None):\n",
    "        if block.file() != None:\n",
    "            locations.append((block.file(), block.line_no()))\n",
    "\n",
    "        statements = block.stmt_handles()\n",
    "        for statement in statements:\n",
    "            if statement.file() != None:\n",
    "                locations.append((statement.file(), statement.line_no()))\n",
    "            find_all_statements(statement, locations)\n",
    "            \n",
    "    statements = process.stmt_handles()\n",
    "    for statement in statements:\n",
    "        if sttement.file() != None:\n",
    "            locations.append((statement.file(), statement.line_no()))\n",
    "        find_all_statements(statement, locations)    \n",
    "    \n",
    "\n",
    "# find all initials down to a given depth in the hierarchy\n",
    "# for each of them find all statements (yes, could be made more generic)\n",
    "def find_initial(module, depth, locations=[]):\n",
    "    if depth <= 0:\n",
    "        return locations\n",
    "    \n",
    "    processes = module.process_handles()\n",
    "    for process in processes:\n",
    "        if (str(process.type()) == \"npiInitial\"):\n",
    "            find_all_statements(process, locations)\n",
    "        \n",
    "    instances = module.internal_scope_handles()\n",
    "    for instance in instances:\n",
    "        find_initial(instance, depth-1, locations)\n",
    "        \n",
    "    return locations\n",
    "\n",
    "top = lang.handle_by_name('top', None)\n",
    "initial_statements = list(dict.fromkeys(find_initial(top,1)))\n",
    "print(initial_statements)"
   ]
  },
  {
   "cell_type": "markdown",
   "metadata": {},
   "source": [
    "# Open coverage database"
   ]
  },
  {
   "cell_type": "code",
   "execution_count": 6,
   "metadata": {},
   "outputs": [],
   "source": [
    "from pynpi import cov\n",
    "\n",
    "cov_db = cov.open('simv.vdb')\n",
    "if not cov_db:\n",
    "    print(\"Error. Failed to open file: \", vdb_name)"
   ]
  },
  {
   "cell_type": "markdown",
   "metadata": {},
   "source": [
    "# Traverse database to find line holes"
   ]
  },
  {
   "cell_type": "code",
   "execution_count": 13,
   "metadata": {},
   "outputs": [
    {
     "name": "stdout",
     "output_type": "stream",
     "text": [
      "{('simple_example/top.v', 11): True, ('simple_example/top.v', 13): True, ('simple_example/top.v', 16): False, ('simple_example/top.v', 18): True, ('simple_example/top.v', 19): False, ('simple_example/top.v', 21): True, ('simple_example/top.v', 22): False, ('simple_example/top.v', 24): True, ('simple_example/top.v', 27): True, ('simple_example/top.v', 36): True, ('simple_example/top.v', 37): True, ('simple_example/top.v', 39): True, ('simple_example/top.v', 42): True}\n"
     ]
    }
   ],
   "source": [
    "# we might go through the same line multiple times. if we saw it covered once, good enough\n",
    "def collect_line_holes(block_line_metric, test, block_name, coverage_data):\n",
    "    childList = block_line_metric.child_handles()\n",
    "        \n",
    "    for child in childList:\n",
    "        if (child.file_name(), child.line_no()) in coverage_data:\n",
    "            coverage_data[(child.file_name(), child.line_no())] = (child.covered(test) > 0)\n",
    "        elif child.covered(test):\n",
    "            coverage_data[(child.file_name(), child.line_no())] = True\n",
    "    \n",
    "# this function simply traverses the coverage hierarchy tree\n",
    "def traverse_cov(inst, test, coverage_data={}):\n",
    "    block_line_metric = inst.line_metric_handle()\n",
    "    if (block_line_metric != None):\n",
    "        collect_line_holes(block_line_metric, test, inst.full_name(), coverage_data)\n",
    "    \n",
    "    instList = inst.instance_handles()\n",
    "    \n",
    "    for inst in instList:\n",
    "        traverse_cov(inst, test, coverage_data)\n",
    "        cov.release_handle(inst)\n",
    "            \n",
    "    return coverage_data\n",
    "\n",
    "def line_holes_from_vdb(cov_db, block_name):\n",
    "    test = cov_db.test_handles()[0]\n",
    "    block_inst = cov_db.handle_by_name(block_name)    \n",
    "    return traverse_cov(block_inst, test)\n",
    "\n",
    "\n",
    "coverage_data = line_holes_from_vdb(cov_db, 'top')\n",
    "print(coverage_data)"
   ]
  },
  {
   "cell_type": "markdown",
   "metadata": {},
   "source": [
    "# Filter \"initial\" lines from holes"
   ]
  },
  {
   "cell_type": "code",
   "execution_count": 16,
   "metadata": {},
   "outputs": [
    {
     "name": "stdout",
     "output_type": "stream",
     "text": [
      "{('simple_example/top.v', 36): True, ('simple_example/top.v', 37): True, ('simple_example/top.v', 39): True, ('simple_example/top.v', 42): True}\n"
     ]
    }
   ],
   "source": [
    "for statement in initial_statements:\n",
    "    if statement in coverage_data:\n",
    "        coverage_data.pop(statement)\n",
    "    \n",
    "print(coverage_data)"
   ]
  },
  {
   "cell_type": "code",
   "execution_count": null,
   "metadata": {},
   "outputs": [],
   "source": []
  }
 ],
 "metadata": {
  "kernelspec": {
   "display_name": "Python 3",
   "language": "python",
   "name": "python3"
  },
  "language_info": {
   "codemirror_mode": {
    "name": "ipython",
    "version": 3
   },
   "file_extension": ".py",
   "mimetype": "text/x-python",
   "name": "python",
   "nbconvert_exporter": "python",
   "pygments_lexer": "ipython3",
   "version": "3.7.3"
  }
 },
 "nbformat": 4,
 "nbformat_minor": 4
}
